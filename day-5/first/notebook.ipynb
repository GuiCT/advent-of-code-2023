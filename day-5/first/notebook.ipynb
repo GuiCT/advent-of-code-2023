{
 "cells": [
  {
   "cell_type": "code",
   "execution_count": 31,
   "metadata": {},
   "outputs": [],
   "source": [
    "with open(\"input.txt\", \"r\") as f:\n",
    "    file_str: str = f.read()\n",
    "    file_str = file_str.replace(\"\\n\", \" \")"
   ]
  },
  {
   "cell_type": "code",
   "execution_count": 32,
   "metadata": {},
   "outputs": [],
   "source": [
    "import bisect\n",
    "\n",
    "\n",
    "class RangeMapper:\n",
    "    def __init__(self, dest_start: int, source_start: int, range_length: int) -> None:\n",
    "        self.source_range = (source_start, source_start + range_length - 1)\n",
    "        self.difference = dest_start - source_start\n",
    "\n",
    "    def is_in_bounds(self, source: int) -> bool:\n",
    "        return source >= self.source_range[0] and source <= self.source_range[1]\n",
    "\n",
    "    def map_source_to_dest(self, source: int):\n",
    "        return source + self.difference\n",
    "\n",
    "    def __str__(self) -> str:\n",
    "        dest_tuple = (\n",
    "            self.source_range[0] + self.difference, self.source_range[1] + self.difference)\n",
    "        return f'{self.source_range} -> {dest_tuple}'\n",
    "\n",
    "\n",
    "class Mapper:\n",
    "    def __init__(self):\n",
    "        self.range_mappers: list[RangeMapper] = []\n",
    "\n",
    "    def add_mapper(self, range_mapper: RangeMapper):\n",
    "        bisect.insort(self.range_mappers, range_mapper,\n",
    "                      key=lambda m: m.source_range[0])\n",
    "\n",
    "    def map_source_to_dest(self, source: int):\n",
    "        for rm in self.range_mappers:\n",
    "            if rm.is_in_bounds(source):\n",
    "                return rm.map_source_to_dest(source)\n",
    "        return source\n",
    "\n",
    "    @staticmethod\n",
    "    def from_list(list_of_integers: list[int]) -> 'Mapper':\n",
    "        assert len(list_of_integers) % 3 == 0\n",
    "        instance = Mapper()\n",
    "        for i in range(0, len(list_of_integers), 3):\n",
    "            instance.add_mapper(RangeMapper(\n",
    "                list_of_integers[i], list_of_integers[i + 1], list_of_integers[i + 2]))\n",
    "        return instance\n",
    "\n",
    "\n",
    "class SequentialMapper:\n",
    "    def __init__(self):\n",
    "        self.mappers: list[Mapper] = []\n",
    "\n",
    "    def add_mapper(self, mapper: Mapper):\n",
    "        self.mappers.append(mapper)\n",
    "    \n",
    "    def map_source_to_dest(self, source: int):\n",
    "        current: int = source\n",
    "        for mapper in self.mappers:\n",
    "            current = mapper.map_source_to_dest(current)\n",
    "        return current"
   ]
  },
  {
   "cell_type": "code",
   "execution_count": 33,
   "metadata": {},
   "outputs": [],
   "source": [
    "import re\n",
    "\n",
    "splits = file_str.split(\":\")\n",
    "splits.pop(0)\n",
    "\n",
    "seeds = list(map(int, re.sub(r\"[a-zA-Z-]\", \"\", splits[0]).strip().split(\" \")))\n",
    "full_mapper = SequentialMapper()\n",
    "for i in range(1, 8):\n",
    "   full_mapper.add_mapper(Mapper.from_list(list(map(int, re.sub(r\"[a-zA-Z-]\", \"\", splits[i]).strip().split(\" \")))))"
   ]
  },
  {
   "cell_type": "code",
   "execution_count": 39,
   "metadata": {},
   "outputs": [
    {
     "data": {
      "text/plain": [
       "825516882"
      ]
     },
     "execution_count": 39,
     "metadata": {},
     "output_type": "execute_result"
    }
   ],
   "source": [
    "all_results = list(map(lambda seed: full_mapper.map_source_to_dest(seed), seeds))\n",
    "all_results.sort()\n",
    "all_results[0]"
   ]
  }
 ],
 "metadata": {
  "kernelspec": {
   "display_name": "Python 3",
   "language": "python",
   "name": "python3"
  },
  "language_info": {
   "codemirror_mode": {
    "name": "ipython",
    "version": 3
   },
   "file_extension": ".py",
   "mimetype": "text/x-python",
   "name": "python",
   "nbconvert_exporter": "python",
   "pygments_lexer": "ipython3",
   "version": "3.11.6"
  }
 },
 "nbformat": 4,
 "nbformat_minor": 2
}
