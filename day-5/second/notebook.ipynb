{
 "cells": [
  {
   "cell_type": "code",
   "execution_count": 1,
   "metadata": {},
   "outputs": [],
   "source": [
    "with open(\"input.txt\", \"r\") as f:\n",
    "    file_str: str = f.read()\n",
    "    file_str = file_str.replace(\"\\n\", \" \")"
   ]
  },
  {
   "cell_type": "code",
   "execution_count": 2,
   "metadata": {},
   "outputs": [],
   "source": [
    "import bisect\n",
    "\n",
    "\n",
    "class RangeMapper:\n",
    "    def __init__(self, dest_start: int, source_start: int, range_length: int) -> None:\n",
    "        self.source_range = (source_start, source_start + range_length - 1)\n",
    "        self.difference = dest_start - source_start\n",
    "\n",
    "    def is_in_bounds(self, source: int) -> bool:\n",
    "        return source >= self.source_range[0] and source <= self.source_range[1]\n",
    "\n",
    "    def map_source_to_dest(self, source: int):\n",
    "        return source + self.difference\n",
    "\n",
    "    def __str__(self) -> str:\n",
    "        dest_tuple = (\n",
    "            self.source_range[0] + self.difference, self.source_range[1] + self.difference)\n",
    "        return f'{self.source_range} -> {dest_tuple}'\n",
    "\n",
    "\n",
    "class Mapper:\n",
    "    def __init__(self):\n",
    "        self.range_mappers: list[RangeMapper] = []\n",
    "\n",
    "    def add_mapper(self, range_mapper: RangeMapper):\n",
    "        bisect.insort(self.range_mappers, range_mapper,\n",
    "                      key=lambda m: m.source_range[0])\n",
    "\n",
    "    def map_source_to_dest(self, source: int):\n",
    "        for rm in self.range_mappers:\n",
    "            if rm.is_in_bounds(source):\n",
    "                return rm.map_source_to_dest(source)\n",
    "        return source\n",
    "\n",
    "    @staticmethod\n",
    "    def from_list(list_of_integers: list[int]) -> 'Mapper':\n",
    "        assert len(list_of_integers) % 3 == 0\n",
    "        instance = Mapper()\n",
    "        for i in range(0, len(list_of_integers), 3):\n",
    "            instance.add_mapper(RangeMapper(\n",
    "                list_of_integers[i], list_of_integers[i + 1], list_of_integers[i + 2]))\n",
    "        return instance\n",
    "\n",
    "\n",
    "class SequentialMapper:\n",
    "    def __init__(self):\n",
    "        self.mappers: list[Mapper] = []\n",
    "\n",
    "    def add_mapper(self, mapper: Mapper):\n",
    "        self.mappers.append(mapper)\n",
    "\n",
    "    def map_source_to_dest(self, source: int):\n",
    "        current: int = source\n",
    "        for mapper in self.mappers:\n",
    "            current = mapper.map_source_to_dest(current)\n",
    "        return current\n",
    "\n",
    "\n",
    "class SeedRange:\n",
    "    def __init__(self, start: int, end: int) -> None:\n",
    "        self.start = start\n",
    "        self.end = end\n",
    "\n",
    "    def _is_contiguous(self, mapper: SequentialMapper) -> bool:\n",
    "        start_map = mapper.map_source_to_dest(self.start)\n",
    "        end_map = mapper.map_source_to_dest(self.end)\n",
    "        diff_seed = self.end - self.start\n",
    "        diff_map = end_map - start_map\n",
    "        return diff_seed == diff_map\n",
    "\n",
    "    def find_breaking_point(self, mapper: SequentialMapper) -> int | None:\n",
    "        if self._is_contiguous(mapper):\n",
    "            return None\n",
    "        start_stack = [self.start]\n",
    "        end_stack = [self.end]\n",
    "        continue_loop = True\n",
    "        while continue_loop:\n",
    "            start_seed = start_stack[-1]\n",
    "            end_seed = end_stack[-1]\n",
    "            test_range = SeedRange(start_seed, end_seed)\n",
    "            is_test_range_contiguous = test_range._is_contiguous(mapper)\n",
    "            middle_seed = (start_seed + end_seed) // 2\n",
    "            if is_test_range_contiguous:\n",
    "                if end_stack[-1] == start_stack[-1]:\n",
    "                    continue_loop = False\n",
    "                start_stack.append(end_seed)\n",
    "                end_stack.pop()\n",
    "            else:\n",
    "                end_stack.append(middle_seed)\n",
    "        return start_stack[-1]"
   ]
  },
  {
   "cell_type": "code",
   "execution_count": 3,
   "metadata": {},
   "outputs": [],
   "source": [
    "import re\n",
    "\n",
    "splits = file_str.split(\":\")\n",
    "splits.pop(0)\n",
    "\n",
    "seeds_range = list(map(int, re.sub(r\"[a-zA-Z-]\", \"\", splits[0]).strip().split(\" \")))\n",
    "full_mapper = SequentialMapper()\n",
    "for i in range(1, 8):\n",
    "   full_mapper.add_mapper(Mapper.from_list(list(map(int, re.sub(r\"[a-zA-Z-]\", \"\", splits[i]).strip().split(\" \")))))"
   ]
  },
  {
   "cell_type": "code",
   "execution_count": 4,
   "metadata": {},
   "outputs": [],
   "source": [
    "range_list: list[SeedRange] = []\n",
    "for i in range(0, len(seeds_range), 2):\n",
    "    range_list.append(SeedRange(seeds_range[i], seeds_range[i] + seeds_range[i + 1]))"
   ]
  },
  {
   "cell_type": "code",
   "execution_count": 5,
   "metadata": {},
   "outputs": [],
   "source": [
    "# Instead of trying every value in the input ranges (these can be VERY big, some\n",
    "# people got 100M values, some got 2B, 3B, ...) which would be unfeasible, we are\n",
    "# gonna take advantage of the characteristics of the linear mappings.\n",
    "\n",
    "# Every mapping we have is MONOTONE, that is: they only increase from a base value.\n",
    "\n",
    "# Then, for every range we have parsed, we check if they use the same mappings\n",
    "\n",
    "# That is: if x0 is the start and xn is the end, given a mapping y0, using the\n",
    "# same mappings, we expect yn = y0 + (xn - x1). When that happens, we call the\n",
    "# range CONTIGUOUS.\n",
    "\n",
    "# When that does not happen, we find the \"breaking point\" (last value on the series\n",
    "# that use the same mappings as the first) and form a new range that is contiguous.\n",
    "# The range generated from the breaking point onwards may or not be contiguous,\n",
    "# so we do that iteratively until EVERY RANGE in our list is contiguous.\n",
    "\n",
    "# When every range is contiguous, we only need to check the mapping for the FIRST\n",
    "# value of every range, because any other will be greater. This reduces the number\n",
    "# of checks we need to do from billions to some dozens.\n",
    "i = 0\n",
    "while i < len(range_list):\n",
    "    ith_range = range_list[i]\n",
    "    breaking_point = ith_range.find_breaking_point(full_mapper)\n",
    "    if breaking_point is None:\n",
    "        i += 1\n",
    "    else:\n",
    "        ith_reduced = SeedRange(ith_range.start, breaking_point)\n",
    "        next_range = SeedRange(breaking_point + 1, ith_range.end)\n",
    "        # Remove current ith\n",
    "        range_list.pop(i)\n",
    "        # Place new in its position\n",
    "        range_list.insert(i, ith_reduced)\n",
    "        # Place next\n",
    "        range_list.insert(i + 1, next_range)\n",
    "        i += 1"
   ]
  },
  {
   "cell_type": "code",
   "execution_count": 6,
   "metadata": {},
   "outputs": [],
   "source": [
    "lowest = full_mapper.map_source_to_dest(range_list[0].start)\n",
    "for seed_range in range_list:\n",
    "    this_seed_lowest = full_mapper.map_source_to_dest(seed_range.start)\n",
    "    if this_seed_lowest < lowest:\n",
    "        lowest = this_seed_lowest"
   ]
  },
  {
   "cell_type": "code",
   "execution_count": 7,
   "metadata": {},
   "outputs": [
    {
     "name": "stdout",
     "output_type": "stream",
     "text": [
      "136096660\n"
     ]
    }
   ],
   "source": [
    "print(lowest)"
   ]
  }
 ],
 "metadata": {
  "kernelspec": {
   "display_name": "Python 3",
   "language": "python",
   "name": "python3"
  },
  "language_info": {
   "codemirror_mode": {
    "name": "ipython",
    "version": 3
   },
   "file_extension": ".py",
   "mimetype": "text/x-python",
   "name": "python",
   "nbconvert_exporter": "python",
   "pygments_lexer": "ipython3",
   "version": "3.11.6"
  }
 },
 "nbformat": 4,
 "nbformat_minor": 2
}
